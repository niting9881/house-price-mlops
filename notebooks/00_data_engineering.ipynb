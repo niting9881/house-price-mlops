{
 "cells": [
  {
   "cell_type": "code",
   "execution_count": 1,
   "id": "fc130135",
   "metadata": {},
   "outputs": [],
   "source": [
    "import pandas as pd\n",
    "\n",
    "# Step 1: Load Raw Data\n",
    "df = pd.read_csv(\"../data/raw/house_data.csv\")"
   ]
  },
  {
   "cell_type": "code",
   "execution_count": 2,
   "id": "3ae24886",
   "metadata": {},
   "outputs": [
    {
     "name": "stdout",
     "output_type": "stream",
     "text": [
      "Initial data shape: (84, 7)\n",
      "      price  sqft  bedrooms  bathrooms    location  year_built  condition\n",
      "79   530000  2080         3        2.0       Urban        1991       Good\n",
      "80   372000  1640         2        1.5      Suburb        1963       Fair\n",
      "81   592000  2220         3        2.0    Downtown        1985       Good\n",
      "82   328000  1730         2        1.5       Rural        1965       Fair\n",
      "83  1190000  3170         4        3.5  Waterfront        2006  Excellent\n"
     ]
    }
   ],
   "source": [
    "# Step 2: Initial Inspection\n",
    "print(\"Initial data shape:\", df.shape)\n",
    "print(df.tail())"
   ]
  },
  {
   "cell_type": "code",
   "execution_count": 3,
   "id": "a6a5d086",
   "metadata": {},
   "outputs": [],
   "source": [
    "# Step 3: Drop malformed rows (like the one with missing columns)\n",
    "df = df.dropna()"
   ]
  },
  {
   "cell_type": "code",
   "execution_count": 4,
   "id": "c171b2c7",
   "metadata": {},
   "outputs": [],
   "source": [
    "# Step 4: Data Type Conversion\n",
    "df['price'] = pd.to_numeric(df['price'], errors='coerce')\n",
    "df['sqft'] = pd.to_numeric(df['sqft'], errors='coerce')\n",
    "df['bedrooms'] = pd.to_numeric(df['bedrooms'], errors='coerce')\n",
    "df['bathrooms'] = pd.to_numeric(df['bathrooms'], errors='coerce')\n",
    "df['year_built'] = pd.to_numeric(df['year_built'], errors='coerce')\n"
   ]
  },
  {
   "cell_type": "code",
   "execution_count": 5,
   "id": "73d08d2c",
   "metadata": {},
   "outputs": [],
   "source": [
    "# Step 5: Handle Missing or Corrupted Values\n",
    "df = df.dropna()\n",
    "df = df[df['price'] > 10000]  # basic sanity checks\n",
    "df = df[df['sqft'] > 200]"
   ]
  },
  {
   "cell_type": "code",
   "execution_count": 6,
   "id": "e26470c9",
   "metadata": {},
   "outputs": [],
   "source": [
    "# Step 6: Standardize Categorical Columns\n",
    "df['location'] = df['location'].str.strip().str.title()\n",
    "df['condition'] = df['condition'].str.strip().str.title()\n"
   ]
  },
  {
   "cell_type": "markdown",
   "id": "62e8bc4d",
   "metadata": {},
   "source": [
    "### Next Step \n",
    "\n",
    "Run the Data Processing Script as \n",
    "\n",
    "```\n",
    "python src/data/run_processing.py --input data/raw/house_data.csv --output data/processed/cleaned_house_data.csv \n",
    "```\n"
   ]
  }
 ],
 "metadata": {
  "kernelspec": {
   "display_name": "Python 3",
   "language": "python",
   "name": "python3"
  },
  "language_info": {
   "codemirror_mode": {
    "name": "ipython",
    "version": 3
   },
   "file_extension": ".py",
   "mimetype": "text/x-python",
   "name": "python",
   "nbconvert_exporter": "python",
   "pygments_lexer": "ipython3",
   "version": "3.11.0"
  }
 },
 "nbformat": 4,
 "nbformat_minor": 5
}
